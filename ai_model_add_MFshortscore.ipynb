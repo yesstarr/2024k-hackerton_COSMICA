{
  "nbformat": 4,
  "nbformat_minor": 0,
  "metadata": {
    "colab": {
      "provenance": [],
      "authorship_tag": "ABX9TyOBfLNEujZdLkhsb2I6PLvh",
      "include_colab_link": true
    },
    "kernelspec": {
      "name": "python3",
      "display_name": "Python 3"
    },
    "language_info": {
      "name": "python"
    }
  },
  "cells": [
    {
      "cell_type": "markdown",
      "metadata": {
        "id": "view-in-github",
        "colab_type": "text"
      },
      "source": [
        "<a href=\"https://colab.research.google.com/github/yesstarr/2024k-hackerton_COSMICA/blob/main/ai_model_add_MFshortscore.ipynb\" target=\"_parent\"><img src=\"https://colab.research.google.com/assets/colab-badge.svg\" alt=\"Open In Colab\"/></a>"
      ]
    },
    {
      "cell_type": "code",
      "source": [
        "import numpy as np\n",
        "import json\n",
        "from math import radians, cos, sin, sqrt, atan2\n",
        "from itertools import permutations\n",
        "\n",
        "# Haversine 함수를 사용해 두 좌표 사이의 거리 계산\n",
        "def haversine(lat1, lon1, lat2, lon2):\n",
        "    R = 6371  # 지구 반지름 (km)\n",
        "    dlat = radians(lat2 - lat1)\n",
        "    dlon = radians(lon2 - lon1)\n",
        "    a = sin(dlat / 2) ** 2 + cos(radians(lat1)) * cos(radians(lat2)) * sin(dlon / 2) ** 2\n",
        "    c = 2 * atan2(sqrt(a), sqrt(1 - a))\n",
        "    distance = R * c\n",
        "    return distance\n",
        "\n",
        "\n",
        "\n",
        "# Brute-force TSP 경로 최적화\n",
        "def tsp_bruteforce(distance_matrix):\n",
        "    num_points = len(distance_matrix)\n",
        "    all_routes = permutations(range(num_points))\n",
        "    min_distance = float('inf')\n",
        "    best_route = None\n",
        "\n",
        "    for route in all_routes:\n",
        "        current_distance = 0\n",
        "        for i in range(len(route) - 1):\n",
        "            current_distance += distance_matrix[route[i]][route[i + 1]]\n",
        "        current_distance += distance_matrix[route[-1]][route[0]]  # 시작점으로 돌아가기\n",
        "\n",
        "        if current_distance < min_distance:\n",
        "            min_distance = current_distance\n",
        "            best_route = route\n",
        "\n",
        "    return min_distance, best_route\n",
        "\n",
        "# Matrix Factorization\n",
        "class MF():\n",
        "    def __init__(self, R, hyper_params):\n",
        "        self.R = np.array(R)\n",
        "        self.num_users, self.num_items = np.shape(self.R)\n",
        "\n",
        "        self.K = hyper_params['K']\n",
        "        self.alpha = hyper_params['alpha']\n",
        "        self.beta = hyper_params['beta']\n",
        "        self.iterations = hyper_params['iterations']\n",
        "        self.verbose = hyper_params['verbose']\n",
        "\n",
        "        self.P = np.random.normal(scale=1./self.K, size=(self.num_users, self.K))\n",
        "        self.Q = np.random.normal(scale=1./self.K, size=(self.num_items, self.K))\n",
        "\n",
        "        self.b_u = np.zeros(self.num_users)\n",
        "        self.b_i = np.zeros(self.num_items)\n",
        "        self.b = np.mean(self.R[self.R.nonzero()])\n",
        "\n",
        "        rows, cols = self.R.nonzero()\n",
        "        self.samples = [(i, j, self.R[i, j]) for i, j in zip(rows, cols)]\n",
        "\n",
        "    # RMSE 계산\n",
        "    def rmse(self):\n",
        "        xs, ys = self.R.nonzero()\n",
        "        error = []\n",
        "        for x, y in zip(xs, ys):\n",
        "            prediction = self.get_prediction(x, y)\n",
        "            error.append(self.R[x, y] - prediction)\n",
        "        return np.sqrt(np.mean(np.array(error)**2))\n",
        "\n",
        "    # 예측 계산\n",
        "    def get_prediction(self, i, j):\n",
        "        prediction = self.b + self.b_u[i] + self.b_i[j] + self.P[i, :].dot(self.Q[j, :].T)\n",
        "        return prediction\n",
        "\n",
        "    # 학습 과정\n",
        "    def train(self):\n",
        "        for it in range(self.iterations):\n",
        "            np.random.shuffle(self.samples)\n",
        "            for i, j, r in self.samples:\n",
        "                prediction = self.get_prediction(i, j)\n",
        "                e = r - prediction\n",
        "\n",
        "                self.b_u[i] += self.alpha * (e - self.beta * self.b_u[i])\n",
        "                self.b_i[j] += self.alpha * (e - self.beta * self.b_i[j])\n",
        "\n",
        "                self.P[i, :] += self.alpha * (e * self.Q[j, :] - self.beta * self.P[i, :])\n",
        "                self.Q[j, :] += self.alpha * (e * self.P[i, :] - self.beta * self.Q[j, :])\n",
        "\n",
        "            rmse = self.rmse()\n",
        "\n",
        "    # 모든 경로에 대해 예측 점수를 반환하는 함수\n",
        "    def recommend(self):\n",
        "        predictions = np.zeros((self.num_users, self.num_items))\n",
        "        for i in range(self.num_users):\n",
        "            for j in range(self.num_items):\n",
        "                predictions[i, j] = self.get_prediction(i, j)\n",
        "        return predictions\n",
        "\n",
        "# 경로 데이터를 평가 매트릭스로 변환하고 MF 적용\n",
        "json_data_list = [\n",
        "     '''\n",
        "    {\n",
        "      \"data\" : [\n",
        "         {\"lat\" :\"36.632473380701\",\"long\" : \"127.45314301376\"},\n",
        "         {\"lat\" :\"36.632473380705\",\"long\" : \"127.45314301387\"},\n",
        "         {\"lat\" :\"36.632473380706\",\"long\" : \"127.45314301398\"},\n",
        "         {\"lat\" :\"36.632473380707\",\"long\" : \"127.45314301399\"},\n",
        "         {\"lat\" :\"36.632473380708\",\"long\" : \"127.45314301400\"}\n",
        "      ]\n",
        "    }\n",
        "    ''',\n",
        "    '''\n",
        "    {\n",
        "      \"data\" : [\n",
        "          {\"lat\" :\"36.632473380701\",\"long\" : \"127.45314301376\"},\n",
        "          {\"lat\" :\"36.632473380705\",\"long\" : \"127.45314301377\"},\n",
        "          {\"lat\" :\"36.632473380706\",\"long\" : \"127.45314301378\"},\n",
        "          {\"lat\" :\"36.632473380707\",\"long\" : \"127.45314301379\"},\n",
        "          {\"lat\" :\"36.632473380708\",\"long\" : \"127.45314301400\"}\n",
        "      ]\n",
        "    }\n",
        "    ''',\n",
        "    '''\n",
        "    {\n",
        "      \"data\" : [\n",
        "          {\"lat\" :\"36.632473380701\",\"long\" : \"127.45314301376\"},\n",
        "          {\"lat\" :\"36.632473380712\",\"long\" : \"127.45314301379\"},\n",
        "          {\"lat\" :\"36.632473380713\",\"long\" : \"127.45314301380\"},\n",
        "          {\"lat\" :\"36.632473380714\",\"long\" : \"127.45314301381\"},\n",
        "          {\"lat\" :\"36.632473380708\",\"long\" : \"127.45314301400\"}\n",
        "      ]\n",
        "    }\n",
        "    '''\n",
        "]\n",
        "\n",
        "# 평가 매트릭스\n",
        "R = [\n",
        "    [3, 3, 3],\n",
        "    [3, 3, 3],\n",
        "    [3, 3, 3]\n",
        "]\n",
        "\n",
        "# 하이퍼파라미터 설정 및 MF 모델 생성\n",
        "hyper_params = {'K': 10, 'alpha': 0.01, 'beta': 0.01, 'iterations': 600, 'verbose': True}\n",
        "mf = MF(R, hyper_params)\n",
        "mf.train()\n",
        "\n",
        "# 경로 추천\n",
        "predicted_scores = mf.recommend()\n",
        "\n",
        "# 가장 높은 점수를 가진 경로 추천\n",
        "best_route_index = np.argmax(np.mean(predicted_scores, axis=0))\n",
        "print(f\"추천경로: {best_route_index + 1}번째 경로\")\n",
        "recommended_json_data = json_data_list[best_route_index]\n",
        "print(recommended_json_data)"
      ],
      "metadata": {
        "colab": {
          "base_uri": "https://localhost:8080/"
        },
        "id": "HO1zEFINciYj",
        "outputId": "fd8b125f-35bd-4446-a20a-443ce469d828"
      },
      "execution_count": null,
      "outputs": [
        {
          "output_type": "stream",
          "name": "stdout",
          "text": [
            "추천경로: 3번째 경로\n",
            "\n",
            "    {\n",
            "      \"data\" : [\n",
            "          {\"lat\" :\"36.632473380701\",\"long\" : \"127.45314301376\"},\n",
            "          {\"lat\" :\"36.632473380712\",\"long\" : \"127.45314301379\"},\n",
            "          {\"lat\" :\"36.632473380713\",\"long\" : \"127.45314301380\"},\n",
            "          {\"lat\" :\"36.632473380714\",\"long\" : \"127.45314301381\"},\n",
            "          {\"lat\" :\"36.632473380708\",\"long\" : \"127.45314301400\"}\n",
            "      ]\n",
            "    }\n",
            "    \n"
          ]
        }
      ]
    },
    {
      "cell_type": "code",
      "source": [],
      "metadata": {
        "colab": {
          "base_uri": "https://localhost:8080/"
        },
        "id": "_P9qYzDq1zqB",
        "outputId": "eaeaebd7-de44-400a-ac36-997a85567083"
      },
      "execution_count": null,
      "outputs": [
        {
          "output_type": "execute_result",
          "data": {
            "text/plain": [
              "False"
            ]
          },
          "metadata": {},
          "execution_count": 41
        }
      ]
    },
    {
      "cell_type": "code",
      "source": [],
      "metadata": {
        "id": "Esc9yX80A6ps"
      },
      "execution_count": null,
      "outputs": []
    }
  ]
}